{
 "cells": [
  {
   "cell_type": "code",
   "execution_count": 2,
   "metadata": {},
   "outputs": [
    {
     "output_type": "stream",
     "name": "stdout",
     "text": [
      "Hello and welcome JT!\n"
     ]
    }
   ],
   "source": [
    "# Welcome\n",
    "my_name = \"JT\"\n",
    "print(\"Hello and welcome \" + my_name + \"!\")"
   ]
  },
  {
   "cell_type": "code",
   "execution_count": null,
   "metadata": {},
   "outputs": [],
   "source": [
    "# Comments\n",
    "# this is a comment\n",
    "\n",
    "# (Provide context for why something is written the way it is:)\n",
    "# This variable will be used to count the number of times anyone tweets the word persnickety\n",
    "persnickety_count = 0\n",
    "\n",
    "# (Help other people reading the code understand it faster:)\n",
    "# This code will calculate the likelihood that it will rain tomorrow\n",
    "complicated_rain_calculation_for_tomorrow()\n",
    "\n",
    "# (Ignore a line of code and see how a program will run without it:)\n",
    "# useful_value = old_sloppy_code()\n",
    "useful_value = new_clean_code()"
   ]
  },
  {
   "cell_type": "code",
   "execution_count": 6,
   "metadata": {},
   "outputs": [
    {
     "output_type": "stream",
     "name": "stdout",
     "text": [
      "Hello World\n"
     ]
    }
   ],
   "source": [
    "# Helloworld\n",
    "print(\"Hello World\")"
   ]
  },
  {
   "cell_type": "code",
   "execution_count": 1,
   "metadata": {},
   "outputs": [
    {
     "output_type": "stream",
     "name": "stdout",
     "text": [
      "your name\nyour name\n"
     ]
    }
   ],
   "source": [
    "# Strings\n",
    "print(\"your name\")\n",
    "print('your name')"
   ]
  },
  {
   "cell_type": "code",
   "execution_count": 2,
   "metadata": {},
   "outputs": [
    {
     "output_type": "stream",
     "name": "stdout",
     "text": [
      "Breakfast:\nAn english muffin\nLunch:\nA burger\nDinner:\nSalad\n"
     ]
    }
   ],
   "source": [
    "# Variables\n",
    "# We've defined the variable \"meal\" here to the name of the food we ate for breakfast!\n",
    "meal = \"An english muffin\"\n",
    "\n",
    "# Printing out breakfast\n",
    "print(\"Breakfast:\")\n",
    "print(meal)\n",
    "\n",
    "# Now update meal to be lunch!\n",
    "meal = \"A burger\"\n",
    "\n",
    "# Printing out lunch\n",
    "print(\"Lunch:\")\n",
    "print(meal)\n",
    "\n",
    "# Now update \"meal\" to be dinner\n",
    "meal = \"Salad\"\n",
    "\n",
    "# Printing out dinner\n",
    "print(\"Dinner:\")\n",
    "print(meal)\n"
   ]
  },
  {
   "cell_type": "code",
   "execution_count": 3,
   "metadata": {},
   "outputs": [
    {
     "output_type": "error",
     "ename": "SyntaxError",
     "evalue": "EOL while scanning string literal (<ipython-input-3-6ef9e3adf428>, line 2)",
     "traceback": [
      "\u001b[0;36m  File \u001b[0;32m\"<ipython-input-3-6ef9e3adf428>\"\u001b[0;36m, line \u001b[0;32m2\u001b[0m\n\u001b[0;31m    print('This message has mismatched quote marks!\")\u001b[0m\n\u001b[0m                                                     ^\u001b[0m\n\u001b[0;31mSyntaxError\u001b[0m\u001b[0;31m:\u001b[0m EOL while scanning string literal\n"
     ]
    }
   ],
   "source": [
    "# Errors\n",
    "print('This message has mismatched quote marks!\")\n",
    "print(Abracadabra)"
   ]
  },
  {
   "cell_type": "code",
   "execution_count": 4,
   "metadata": {},
   "outputs": [],
   "source": [
    "# Numbers\n",
    "# Define the release and runtime integer variables below:\n",
    "release_year = 2020\n",
    "runtime = 20\n",
    "\n",
    "# Define the rating_out_of_10 float variable below: \n",
    "rating_out_of_10 = 2.1"
   ]
  },
  {
   "cell_type": "code",
   "execution_count": 5,
   "metadata": {},
   "outputs": [
    {
     "output_type": "stream",
     "name": "stdout",
     "text": [
      "1700.4642857142858\n"
     ]
    }
   ],
   "source": [
    "# Calculations\n",
    "print(25 * 68 + 13 / 28)"
   ]
  },
  {
   "cell_type": "code",
   "execution_count": 6,
   "metadata": {},
   "outputs": [
    {
     "output_type": "stream",
     "name": "stdout",
     "text": [
      "96\n64\n"
     ]
    }
   ],
   "source": [
    "# Changing Numbers\n",
    "quilt_width = 8\n",
    "quilt_length = 12\n",
    "print(quilt_width * quilt_length)\n",
    "quilt_length = 8\n",
    "print(quilt_width * quilt_length)"
   ]
  },
  {
   "cell_type": "code",
   "execution_count": 7,
   "metadata": {},
   "outputs": [
    {
     "output_type": "stream",
     "name": "stdout",
     "text": [
      "36\n49\n64\n1296\n"
     ]
    }
   ],
   "source": [
    "# Exponents\n",
    "# Calculation of squares for:\n",
    "# 6x6 quilt\n",
    "print(6**2)\n",
    "# 7x7 quilt\n",
    "print(7**2)\n",
    "# 8x8 quilt\n",
    "print(8**2)\n",
    "# How many squares for 6 people to have 6 quilts each that are 6x6?\n",
    "print(6**4)"
   ]
  },
  {
   "cell_type": "code",
   "execution_count": 10,
   "metadata": {},
   "outputs": [
    {
     "output_type": "stream",
     "name": "stdout",
     "text": [
      "3\n2\n0\n"
     ]
    }
   ],
   "source": [
    "# Modulo\n",
    "my_team = 27%4\n",
    "print(my_team)\n",
    "\n",
    "my_team = 26%4\n",
    "print(my_team)\n",
    "\n",
    "my_team = 28%4\n",
    "print(my_team)"
   ]
  },
  {
   "cell_type": "code",
   "execution_count": 11,
   "metadata": {},
   "outputs": [
    {
     "output_type": "stream",
     "name": "stdout",
     "text": [
      "The wind, which had hitherto carried us along with amazing rapidity, sank at sunset to a light breeze; the soft air just ruffled the water and caused a pleasant motion among the trees as we approached the shore, from which it wafted the most delightful scent of flowers and hay.\n"
     ]
    }
   ],
   "source": [
    "# Concatenation\n",
    "string1 = \"The wind, \"\n",
    "string2 = \"which had hitherto carried us along with amazing rapidity, \"\n",
    "string3 = \"sank at sunset to a light breeze; \"\n",
    "string4 = \"the soft air just ruffled the water and \"\n",
    "string5 = \"caused a pleasant motion among the trees as we approached the shore, \"\n",
    "string6 = \"from which it wafted the most delightful scent of flowers and hay.\"\n",
    "\n",
    "# Define message below:\n",
    "message = string1 + string2 + string3 + string4 + string5 + string6\n",
    "\n",
    "#print(message)\n",
    "print(message)"
   ]
  },
  {
   "cell_type": "code",
   "execution_count": 12,
   "metadata": {},
   "outputs": [
    {
     "output_type": "stream",
     "name": "stdout",
     "text": [
      "The total price is 109.0\n"
     ]
    }
   ],
   "source": [
    "# Plus Equals\n",
    "total_price = 0\n",
    "\n",
    "new_sneakers = 50.00\n",
    "\n",
    "total_price += new_sneakers\n",
    "\n",
    "nice_sweater = 39.00\n",
    "fun_books = 20.00\n",
    "# Update total_price here:\n",
    "total_price += nice_sweater \n",
    "total_price += fun_books\n",
    "print(\"The total price is\", total_price)"
   ]
  },
  {
   "cell_type": "code",
   "execution_count": 14,
   "metadata": {},
   "outputs": [
    {
     "output_type": "stream",
     "name": "stdout",
     "text": [
      "\nStranger, if you passing \nmeet me and desire to \nspeak to me, why\n  should you not speak to me?\nAnd why should I not speak \nto you?\n\n"
     ]
    }
   ],
   "source": [
    "# Multi-line Strings\n",
    "# Assign the string here\n",
    "to_you = \"\"\"\n",
    "Stranger, if you passing \n",
    "meet me and desire to \n",
    "speak to me, why\n",
    "  should you not speak to me?\n",
    "And why should I not speak \n",
    "to you?\n",
    "\"\"\"\n",
    "print(to_you)"
   ]
  },
  {
   "cell_type": "code",
   "execution_count": 2,
   "metadata": {},
   "outputs": [
    {
     "output_type": "stream",
     "name": "stdout",
     "text": [
      "How's it going Taylor\n"
     ]
    }
   ],
   "source": [
    "# Review\n",
    "my_age = 20\n",
    "half_my_age = my_age/2\n",
    "greeting = \"How's it going\"\n",
    "name = \" Taylor\"\n",
    "greeting_with_name = greeting + name\n",
    "print(greeting_with_name)"
   ]
  },
  {
   "cell_type": "code",
   "execution_count": null,
   "metadata": {},
   "outputs": [],
   "source": []
  }
 ],
 "metadata": {
  "kernelspec": {
   "name": "python3",
   "display_name": "Python 3.9.0 64-bit",
   "metadata": {
    "interpreter": {
     "hash": "7812ea015bdcee6f23a998adcdd2ef97c151c0c241b7b7070987d9313e41299d"
    }
   }
  },
  "language_info": {
   "codemirror_mode": {
    "name": "ipython",
    "version": 3
   },
   "file_extension": ".py",
   "mimetype": "text/x-python",
   "name": "python",
   "nbconvert_exporter": "python",
   "pygments_lexer": "ipython3",
   "version": "3.9.0-final"
  }
 },
 "nbformat": 4,
 "nbformat_minor": 4
}